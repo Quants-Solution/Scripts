{
 "cells": [
  {
   "cell_type": "code",
   "execution_count": 18,
   "id": "9be71784-3610-4c36-be19-eaec426fd030",
   "metadata": {},
   "outputs": [],
   "source": [
    "def trade_metrics(buy,stop_loss,target):\n",
    "    profit = round((target-buy)/buy*100,2)\n",
    "    risk = round((buy-stop_loss)/buy*100,2)\n",
    "    r_r = round(profit/risk,2)\n",
    "    return f'Profit : {profit}%, Risk:{risk}%, R:R : {r_r}'"
   ]
  },
  {
   "cell_type": "code",
   "execution_count": 21,
   "id": "4f1abcca-a42a-4430-a70e-eefb3ef878cd",
   "metadata": {},
   "outputs": [],
   "source": [
    "lilak = trade_metrics(8.24,7.05,8.91)"
   ]
  },
  {
   "cell_type": "code",
   "execution_count": 22,
   "id": "5e75ffae-07b8-478b-bccc-6326461a0635",
   "metadata": {},
   "outputs": [
    {
     "data": {
      "text/plain": [
       "'Profit : 8.13%, Risk:14.44%, R:R : 0.56'"
      ]
     },
     "execution_count": 22,
     "metadata": {},
     "output_type": "execute_result"
    }
   ],
   "source": [
    "lilak"
   ]
  },
  {
   "cell_type": "code",
   "execution_count": 23,
   "id": "38f96271-6c41-4599-8a29-e2319f4339c8",
   "metadata": {},
   "outputs": [],
   "source": [
    "hnrg = trade_metrics(7.43,6.84,8.27)"
   ]
  },
  {
   "cell_type": "code",
   "execution_count": 24,
   "id": "ae668043-f113-4eb4-8997-8dab41157630",
   "metadata": {},
   "outputs": [
    {
     "data": {
      "text/plain": [
       "'Profit : 11.31%, Risk:7.94%, R:R : 1.42'"
      ]
     },
     "execution_count": 24,
     "metadata": {},
     "output_type": "execute_result"
    }
   ],
   "source": [
    "hnrg"
   ]
  },
  {
   "cell_type": "code",
   "execution_count": 29,
   "id": "78472763-f8b4-44b1-a672-cb1f8385c625",
   "metadata": {},
   "outputs": [],
   "source": [
    "amd = trade_metrics(489,(489-75),800)"
   ]
  },
  {
   "cell_type": "code",
   "execution_count": 30,
   "id": "67215b77-a73a-44e5-a0ad-25c3da30510d",
   "metadata": {},
   "outputs": [
    {
     "data": {
      "text/plain": [
       "'Profit : 63.6%, Risk:15.34%, R:R : 4.15'"
      ]
     },
     "execution_count": 30,
     "metadata": {},
     "output_type": "execute_result"
    }
   ],
   "source": [
    "amd"
   ]
  },
  {
   "cell_type": "code",
   "execution_count": null,
   "id": "7a1dfe8c-6a84-4cf6-b20d-21705d116e34",
   "metadata": {},
   "outputs": [],
   "source": []
  }
 ],
 "metadata": {
  "kernelspec": {
   "display_name": "Python 3 (ipykernel)",
   "language": "python",
   "name": "python3"
  },
  "language_info": {
   "codemirror_mode": {
    "name": "ipython",
    "version": 3
   },
   "file_extension": ".py",
   "mimetype": "text/x-python",
   "name": "python",
   "nbconvert_exporter": "python",
   "pygments_lexer": "ipython3",
   "version": "3.9.15"
  }
 },
 "nbformat": 4,
 "nbformat_minor": 5
}
