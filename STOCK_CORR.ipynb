{
 "cells": [
  {
   "cell_type": "code",
   "execution_count": 1,
   "id": "b96446c5-855d-47ae-b006-f6c2406ef090",
   "metadata": {},
   "outputs": [],
   "source": [
    "import pandas as pd\n",
    "import numpy as np\n",
    "import yfinance as yf\n",
    "import fmpsdk as fmp\n",
    "import os\n",
    "from dotenv import load_dotenv\n",
    "import datetime\n",
    "import seaborn as sns\n",
    "import matplotlib.pyplot as plt"
   ]
  },
  {
   "cell_type": "code",
   "execution_count": 2,
   "id": "eec0ebf9-3744-4c8f-b506-ac069b6e56a1",
   "metadata": {},
   "outputs": [
    {
     "data": {
      "text/plain": [
       "True"
      ]
     },
     "execution_count": 2,
     "metadata": {},
     "output_type": "execute_result"
    }
   ],
   "source": [
    "load_dotenv()"
   ]
  },
  {
   "cell_type": "code",
   "execution_count": 3,
   "id": "f35dfa2d-1bfe-4362-b96d-4e15816f972e",
   "metadata": {},
   "outputs": [],
   "source": [
    "portfolio = ['NVDA','PAAS','IMTX','APA']"
   ]
  },
  {
   "cell_type": "code",
   "execution_count": 4,
   "id": "971b40f9-e165-48a5-909c-f56e27db8bcf",
   "metadata": {},
   "outputs": [],
   "source": [
    "fmp_key = os.getenv('fmp_key')"
   ]
  },
  {
   "cell_type": "code",
   "execution_count": 5,
   "id": "0ea444da-cfaa-444e-9639-26a2f7d55f58",
   "metadata": {},
   "outputs": [],
   "source": [
    "x = []\n",
    "for i in portfolio:\n",
    "    a = pd.DataFrame(fmp.historical_price_full(fmp_key,i,from_date='2022-01-01',to_date=datetime.datetime.now()))\n",
    "    a.index = a['date']\n",
    "    a= a.iloc[:,4]\n",
    "    a = a.to_frame()\n",
    "    a.columns = [i]\n",
    "    x.append(a)\n",
    "df = pd.concat(x,axis=1,join='inner')\n",
    "corr = df.corr()"
   ]
  },
  {
   "cell_type": "code",
   "execution_count": 6,
   "id": "46b9f253-42b0-408f-8490-a5145257d29a",
   "metadata": {},
   "outputs": [],
   "source": [
    "import seaborn as sns"
   ]
  },
  {
   "cell_type": "code",
   "execution_count": 7,
   "id": "a2d6edb0-699c-464f-a18e-6833eb7c5bf1",
   "metadata": {},
   "outputs": [
    {
     "data": {
      "text/plain": [
       "<AxesSubplot:>"
      ]
     },
     "execution_count": 7,
     "metadata": {},
     "output_type": "execute_result"
    },
    {
     "data": {
      "image/png": "[encoded data removed]",
      "text/plain": [
       "<Figure size 432x288 with 2 Axes>"
      ]
     },
     "metadata": {
      "needs_background": "light"
     },
     "output_type": "display_data"
    }
   ],
   "source": [
    "sns.heatmap(corr , vmax=1,vmin=-1)"
   ]
  },
  {
   "cell_type": "code",
   "execution_count": null,
   "id": "594b9240-80b1-4ee1-97e8-d3e27f9e35f9",
   "metadata": {},
   "outputs": [],
   "source": []
  }
 ],
 "metadata": {
  "kernelspec": {
   "display_name": "Python 3 (ipykernel)",
   "language": "python",
   "name": "python3"
  },
  "language_info": {
   "codemirror_mode": {
    "name": "ipython",
    "version": 3
   },
   "file_extension": ".py",
   "mimetype": "text/x-python",
   "name": "python",
   "nbconvert_exporter": "python",
   "pygments_lexer": "ipython3",
   "version": "3.9.15"
  }
 },
 "nbformat": 4,
 "nbformat_minor": 5
}
